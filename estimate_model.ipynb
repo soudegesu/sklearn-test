{
 "cells": [
  {
   "cell_type": "code",
   "execution_count": 1,
   "metadata": {},
   "outputs": [
    {
     "name": "stdout",
     "output_type": "stream",
     "text": [
      "Test set score: 0.88\n"
     ]
    }
   ],
   "source": [
    "from sklearn.datasets import make_blobs\n",
    "from sklearn.linear_model import LogisticRegression\n",
    "from sklearn.model_selection import train_test_split\n",
    "\n",
    "# 合成データセットの作成\n",
    "X, y = make_blobs(random_state=0)\n",
    "# dataトラベルを訓練セットとテストセットに分割\n",
    "X_train, X_test, y_train, y_test = train_test_split(X, y, random_state=0)\n",
    "# モデルのインスタンスを生成し、訓練データで学習\n",
    "logreg = LogisticRegression().fit(X_train, y_train)\n",
    "# テストセットでモデルを学習\n",
    "print(f\"Test set score: {round(logreg.score(X_test, y_test), 3)}\")"
   ]
  },
  {
   "cell_type": "code",
   "execution_count": 2,
   "metadata": {},
   "outputs": [],
   "source": [
    "# データの分割は、未知のデータに対する汎化性能の検証をしたいから\n",
    "# より頑健な汎化性能評価である交差検証(cross-validation)を導入する"
   ]
  },
  {
   "cell_type": "code",
   "execution_count": 1,
   "metadata": {},
   "outputs": [],
   "source": [
    "# 交差検証は汎化性能を評価する統計的手法で、ただ単に訓練セットとテストセットに分割する方法と比べて,\n",
    "# より安定で徹底した手法である。交差検証ではデータの分割を何度も繰り返して行い、複数のモデルを訓練する。\n",
    "# k分割交差検証はよく利用される。多くの場合5〜10になる。\n",
    "# 5分割の場合、まずはデータを5つのおおよそ同じサイズに分割する"
   ]
  },
  {
   "cell_type": "code",
   "execution_count": 3,
   "metadata": {},
   "outputs": [
    {
     "name": "stdout",
     "output_type": "stream",
     "text": [
      "Cross-Validation score: [0.96078431 0.92156863 0.95833333]\n"
     ]
    }
   ],
   "source": [
    "from sklearn.model_selection import cross_val_score\n",
    "from sklearn.datasets import load_iris\n",
    "from sklearn.linear_model import LogisticRegression\n",
    "\n",
    "iris = load_iris()\n",
    "logreg = LogisticRegression()\n",
    "\n",
    "scores = cross_val_score(logreg, iris.data, iris.target)\n",
    "print(f\"Cross-Validation score: {scores}\")"
   ]
  },
  {
   "cell_type": "code",
   "execution_count": 4,
   "metadata": {},
   "outputs": [
    {
     "name": "stdout",
     "output_type": "stream",
     "text": [
      "Cross-Validation score: [1.         0.96666667 0.93333333 0.9        1.        ]\n"
     ]
    }
   ],
   "source": [
    "# 分割数を5に変更する\n",
    "scores = cross_val_score(logreg,  iris.data, iris.target, cv=5)\n",
    "print(f\"Cross-Validation score: {scores}\")"
   ]
  },
  {
   "cell_type": "code",
   "execution_count": 5,
   "metadata": {},
   "outputs": [
    {
     "name": "stdout",
     "output_type": "stream",
     "text": [
      "Average cross-validation score: 0.9600000000000002\n"
     ]
    }
   ],
   "source": [
    "# 交差検証の精度をまとめるには一般に平均値を求める\n",
    "print(f\"Average cross-validation score: {scores.mean()}\")"
   ]
  },
  {
   "cell_type": "code",
   "execution_count": 7,
   "metadata": {},
   "outputs": [],
   "source": [
    "# 交差検証の場合、train_test_splitと違って、全てのデータが正確に1度だけテストに用いられる\n",
    "# モデルはデータセットの全てのサンプルに対して良い汎化性能を示さなければ、交差検証スコアとその平均を高くすることはできない\n",
    "# 交差検証の最大の問題は計算コストである\n",
    "# 交差検証の目的は特定のデータセットに対して、どの程度汎化性能ができるかを評価すること"
   ]
  },
  {
   "cell_type": "code",
   "execution_count": 8,
   "metadata": {},
   "outputs": [],
   "source": [
    "# 層化k分割交差検証と他の戦略"
   ]
  },
  {
   "cell_type": "code",
   "execution_count": 11,
   "metadata": {},
   "outputs": [
    {
     "name": "stdout",
     "output_type": "stream",
     "text": [
      "Iris labels: [0 0 0 0 0 0 0 0 0 0 0 0 0 0 0 0 0 0 0 0 0 0 0 0 0 0 0 0 0 0 0 0 0 0 0 0 0\n",
      " 0 0 0 0 0 0 0 0 0 0 0 0 0 1 1 1 1 1 1 1 1 1 1 1 1 1 1 1 1 1 1 1 1 1 1 1 1\n",
      " 1 1 1 1 1 1 1 1 1 1 1 1 1 1 1 1 1 1 1 1 1 1 1 1 1 1 2 2 2 2 2 2 2 2 2 2 2\n",
      " 2 2 2 2 2 2 2 2 2 2 2 2 2 2 2 2 2 2 2 2 2 2 2 2 2 2 2 2 2 2 2 2 2 2 2 2 2\n",
      " 2 2]\n"
     ]
    }
   ],
   "source": [
    "from sklearn.datasets import load_iris\n",
    "\n",
    "# データが準備されている順番にk分割すると、規則性があって、テストデータとしては好ましい場合がある\n",
    "iris = load_iris()\n",
    "print(f\"Iris labels: {iris.target}\")"
   ]
  },
  {
   "cell_type": "code",
   "execution_count": 12,
   "metadata": {},
   "outputs": [],
   "source": [
    "# 層化k分割交差検証を用いて、信頼できる汎化性能を推定する"
   ]
  },
  {
   "cell_type": "code",
   "execution_count": 13,
   "metadata": {},
   "outputs": [
    {
     "name": "stdout",
     "output_type": "stream",
     "text": [
      "Cross-validation scores: [1.         0.93333333 0.43333333 0.96666667 0.43333333]\n"
     ]
    }
   ],
   "source": [
    "from sklearn.model_selection import KFold\n",
    "kfold = KFold(n_splits=5)\n",
    "# cpパラメータに交差検証分割器を指定することができる\n",
    "print(f\"Cross-validation scores: {cross_val_score(logreg, iris.data, iris.target, cv=kfold)}\")"
   ]
  },
  {
   "cell_type": "code",
   "execution_count": 14,
   "metadata": {},
   "outputs": [
    {
     "name": "stdout",
     "output_type": "stream",
     "text": [
      "Cross-validation scores: [0. 0. 0.]\n"
     ]
    }
   ],
   "source": [
    "kfold = KFold(n_splits=3)\n",
    "print(f\"Cross-validation scores: {cross_val_score(logreg, iris.data, iris.target, cv=kfold)}\")"
   ]
  },
  {
   "cell_type": "code",
   "execution_count": 15,
   "metadata": {},
   "outputs": [
    {
     "name": "stdout",
     "output_type": "stream",
     "text": [
      "Cross-validation scores: [0.9  0.96 0.96]\n"
     ]
    }
   ],
   "source": [
    "# 分割前にデータをシャッフルする\n",
    "kfold = KFold(n_splits=3, shuffle=True, random_state=0)\n",
    "print(f\"Cross-validation scores: {cross_val_score(logreg, iris.data, iris.target, cv=kfold)}\")"
   ]
  },
  {
   "cell_type": "code",
   "execution_count": 17,
   "metadata": {},
   "outputs": [
    {
     "name": "stdout",
     "output_type": "stream",
     "text": [
      "umber of cv iterations: 150\n",
      "Mean accuracy: 0.9533333333333334\n"
     ]
    }
   ],
   "source": [
    "# 1つ抜き交差検証\n",
    "from sklearn.model_selection import LeaveOneOut\n",
    "loo = LeaveOneOut()\n",
    "scores = cross_val_score(logreg, iris.data, iris.target, cv=loo)\n",
    "print(f\"Number of cv iterations: {len(scores)}\")\n",
    "print(f\"Mean accuracy: {scores.mean()}\")"
   ]
  },
  {
   "cell_type": "code",
   "execution_count": 18,
   "metadata": {},
   "outputs": [
    {
     "name": "stdout",
     "output_type": "stream",
     "text": [
      "Cross-validation scores: [0.97333333 0.89333333 0.88       0.96       0.97333333 0.92\n",
      " 0.96       0.96       0.98666667 0.93333333]\n"
     ]
    }
   ],
   "source": [
    "#  シャッフル分割交差検証\n",
    "# 訓練セットとテストセットのサイズとは独立に繰り返し回数を制御できる\n",
    "from sklearn.model_selection import ShuffleSplit\n",
    "shuffle_split = ShuffleSplit(test_size=.5, train_size=.5, n_splits=10)\n",
    "scores = cross_val_score(logreg, iris.data, iris.target, cv=shuffle_split)\n",
    "print(f\"Cross-validation scores: {scores}\")"
   ]
  },
  {
   "cell_type": "code",
   "execution_count": 22,
   "metadata": {},
   "outputs": [
    {
     "name": "stdout",
     "output_type": "stream",
     "text": [
      "Cross-validation scores: [0.75       0.8        0.66666667]\n"
     ]
    }
   ],
   "source": [
    "# グループ付き交差検証\n",
    "from sklearn.model_selection import GroupKFold\n",
    "from sklearn.datasets import make_blobs\n",
    "import mglearn\n",
    "\n",
    "# 合成データセットを作成\n",
    "X, y = make_blobs(n_samples=12, random_state=0)\n",
    "# 最初の3サンプルが同じグループに、次の４つが同じグループに、というようにする\n",
    "groups = [0,0,0,1,1,1,1,2,2,3,3,3]\n",
    "scores = cross_val_score(logreg, X, y, groups, cv=GroupKFold(n_splits=3))\n",
    "print(f\"Cross-validation scores: {scores}\")\n"
   ]
  },
  {
   "cell_type": "code",
   "execution_count": null,
   "metadata": {},
   "outputs": [],
   "source": []
  }
 ],
 "metadata": {
  "kernelspec": {
   "display_name": "Python 3",
   "language": "python",
   "name": "python3"
  },
  "language_info": {
   "codemirror_mode": {
    "name": "ipython",
    "version": 3
   },
   "file_extension": ".py",
   "mimetype": "text/x-python",
   "name": "python",
   "nbconvert_exporter": "python",
   "pygments_lexer": "ipython3",
   "version": "3.6.5"
  }
 },
 "nbformat": 4,
 "nbformat_minor": 2
}
