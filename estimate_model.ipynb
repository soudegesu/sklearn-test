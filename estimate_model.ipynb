{
 "cells": [
  {
   "cell_type": "code",
   "execution_count": 1,
   "metadata": {},
   "outputs": [
    {
     "name": "stdout",
     "output_type": "stream",
     "text": [
      "Test set score: 0.88\n"
     ]
    }
   ],
   "source": [
    "from sklearn.datasets import make_blobs\n",
    "from sklearn.linear_model import LogisticRegression\n",
    "from sklearn.model_selection import train_test_split\n",
    "\n",
    "# 合成データセットの作成\n",
    "X, y = make_blobs(random_state=0)\n",
    "# dataトラベルを訓練セットとテストセットに分割\n",
    "X_train, X_test, y_train, y_test = train_test_split(X, y, random_state=0)\n",
    "# モデルのインスタンスを生成し、訓練データで学習\n",
    "logreg = LogisticRegression().fit(X_train, y_train)\n",
    "# テストセットでモデルを学習\n",
    "print(f\"Test set score: {round(logreg.score(X_test, y_test), 3)}\")"
   ]
  },
  {
   "cell_type": "code",
   "execution_count": 2,
   "metadata": {},
   "outputs": [],
   "source": [
    "# データの分割は、未知のデータに対する汎化性能の検証をしたいから\n",
    "# より頑健な汎化性能評価である交差検証(cross-validation)を導入する"
   ]
  },
  {
   "cell_type": "code",
   "execution_count": null,
   "metadata": {},
   "outputs": [],
   "source": [
    "# 交差検証は汎化性能を評価する統計的手法で、ただ単に訓練セットとテストセットに分割する方法と比べて,\n",
    "# より安定で徹底した手法である。交差検証ではデータの分割を何度も繰り返して行い、複数のモデルを訓練する。\n",
    "# k分割交差検証はよく利用される。多くの場合5〜10になる。\n",
    "# 5分割の場合、まずはデータを5つのおおよそ同じサイズに分割する"
   ]
  }
 ],
 "metadata": {
  "kernelspec": {
   "display_name": "Python 3",
   "language": "python",
   "name": "python3"
  },
  "language_info": {
   "codemirror_mode": {
    "name": "ipython",
    "version": 3
   },
   "file_extension": ".py",
   "mimetype": "text/x-python",
   "name": "python",
   "nbconvert_exporter": "python",
   "pygments_lexer": "ipython3",
   "version": "3.6.5"
  }
 },
 "nbformat": 4,
 "nbformat_minor": 2
}
