{
 "cells": [
  {
   "cell_type": "code",
   "execution_count": 1,
   "metadata": {},
   "outputs": [],
   "source": [
    "# 自動特徴量選択\n",
    "# 特徴量を追加すると、モデルは複雑になり、過剰適合の可能性が高くなる\n",
    "# 新しい特徴量を加える場合、または、高次元データ・セットの場合、最も有用な特徴量以外を捨てて特徴量をへらすのはいい考えだ\n",
    "# 基本的な戦略として、単変量統計、モデルベース選択、反復選択の3つが存在する"
   ]
  },
  {
   "cell_type": "code",
   "execution_count": 2,
   "metadata": {},
   "outputs": [],
   "source": [
    "# 単変量統計\n",
    "# 個々の特徴量とターゲットの間に統計的に顕著な関係があるかどうか計算し、最も高い確信度で関連している特徴量が選択される\n",
    "# クラス分類の場合には、分散分析として知られる手法\n",
    "# 特徴は単変量である（個々の特徴量を個別に考慮する）こと"
   ]
  },
  {
   "cell_type": "code",
   "execution_count": 4,
   "metadata": {},
   "outputs": [
    {
     "name": "stdout",
     "output_type": "stream",
     "text": [
      "X_train.shape: (284, 80)\n",
      "X_train_selected.shape: (284, 40)\n"
     ]
    }
   ],
   "source": [
    "from sklearn.datasets import load_breast_cancer\n",
    "from sklearn.feature_selection import SelectPercentile\n",
    "from sklearn.model_selection import train_test_split\n",
    "import numpy as np\n",
    "\n",
    "cancer = load_breast_cancer()\n",
    "\n",
    "# シードを指定して乱数を生成\n",
    "rng = np.random.RandomState(42)\n",
    "noise = rng.normal(size=(len(cancer.data), 50))\n",
    "\n",
    "# ノイズ特徴量をデータに加える\n",
    "# 最初の30特徴量はデータセットから来たもの、続く50特徴量はノイズ\n",
    "X_w_noise = np.hstack([cancer.data, noise])\n",
    "\n",
    "X_train, X_test, y_train, y_test = train_test_split(X_w_noise, cancer.target, random_state=0, test_size=.5)\n",
    "# f_classifとSelectPercentileを使って50%の特徴量を選択\n",
    "select = SelectPercentile(percentile=50)\n",
    "select.fit(X_train, y_train)\n",
    "# 訓練セットを変換\n",
    "X_train_selected = select.transform(X_train)\n",
    "\n",
    "# 特徴量が半分に減っている\n",
    "print(f\"X_train.shape: {X_train.shape}\")\n",
    "print(f\"X_train_selected.shape: {X_train_selected.shape}\")"
   ]
  },
  {
   "cell_type": "code",
   "execution_count": 6,
   "metadata": {},
   "outputs": [
    {
     "name": "stdout",
     "output_type": "stream",
     "text": [
      "[ True  True  True  True  True  True  True  True  True False  True False\n",
      "  True  True  True  True  True  True False False  True  True  True  True\n",
      "  True  True  True  True  True  True False False False  True False  True\n",
      " False False  True False False False False  True False False  True False\n",
      " False  True False  True False False False False False False  True False\n",
      "  True False False False False  True False  True False False False False\n",
      "  True  True False  True False False False False]\n"
     ]
    },
    {
     "data": {
      "image/png": "[encoded data removed]",
      "text/plain": [
       "<Figure size 1152x144 with 1 Axes>"
      ]
     },
     "metadata": {},
     "output_type": "display_data"
    }
   ],
   "source": [
    "from matplotlib import pyplot as plt\n",
    "# どの特徴量が使われているかを確認する\n",
    "mask = select.get_support()\n",
    "print(mask)\n",
    "# マスクを可視化する\n",
    "plt.matshow(mask.reshape(1, -1), cmap='gray_r')\n",
    "plt.xlabel('Simple index')\n",
    "plt.show()\n",
    "# もとの特徴量のほとんどが選択されており、ほとんどのノイズの特徴量が取り除かれている"
   ]
  },
  {
   "cell_type": "code",
   "execution_count": 10,
   "metadata": {},
   "outputs": [
    {
     "name": "stdout",
     "output_type": "stream",
     "text": [
      "Score with all features: 0.93\n",
      "Score with all features: 0.94\n"
     ]
    }
   ],
   "source": [
    "# ロジスティック回帰の性能を、全ての特徴楼を使った場合と、選択された特徴量だけを使った場合で比較してみる\n",
    "from sklearn.linear_model import LogisticRegression\n",
    "\n",
    "# テストデータの変換\n",
    "X_test_selected = select.transform(X_test)\n",
    "\n",
    "lr = LogisticRegression()\n",
    "lr.fit(X_train, y_train)\n",
    "print(f\"Score with all features: {round(lr.score(X_test, y_test), 3)}\") #全ての特徴量を使った際のスコア\n",
    "\n",
    "lr.fit(X_train_selected, y_train)\n",
    "print(f\"Score with all features: {round(lr.score(X_test_selected, y_test), 3)}\") # 選択した特徴量だけを使ったスコア\n",
    "# 必ずしも、特徴量を削減した場合に性能があがるとは限らない"
   ]
  },
  {
   "cell_type": "code",
   "execution_count": 12,
   "metadata": {},
   "outputs": [
    {
     "name": "stdout",
     "output_type": "stream",
     "text": [
      "X_train.shape: (284, 80)\n",
      "X_train_l1.shape: (284, 40)\n"
     ]
    }
   ],
   "source": [
    "# モデルベース特徴量選択\n",
    "# 教師あり学習モデルを用いて個々の特徴量の重要性を判断し、重要なものだけを残す手法。\n",
    "# 特徴量選択に使用する学習モデルは、最終的に使う教師あり学習モデルと別でも良い。\n",
    "# 決定木や決定木をベースにしたモデルには特徴量の重要性そのものをエンコードした feature_importance_ 属性がある\n",
    "# 線形モデルには係数があり、これも絶対値を取れば、特徴量の重要性を捉えた値として使用できる\n",
    "from sklearn.feature_selection import SelectFromModel\n",
    "from sklearn.ensemble import RandomForestClassifier\n",
    "\n",
    "# 教師あり学習モデルで得られた特徴量の重要性がしきい値よりも大きい特徴量のみを選択する\n",
    "select = SelectFromModel(RandomForestClassifier(n_estimators=100, random_state=42), threshold='median')\n",
    "\n",
    "select.fit(X_train, y_train)\n",
    "X_train_l1 = select.transform(X_train)\n",
    "print(f\"X_train.shape: {X_train.shape}\")\n",
    "print(f\"X_train_l1.shape: {X_train_l1.shape}\")"
   ]
  },
  {
   "cell_type": "code",
   "execution_count": 13,
   "metadata": {},
   "outputs": [
    {
     "data": {
      "image/png": "[encoded data removed]",
      "text/plain": [
       "<Figure size 1152x144 with 1 Axes>"
      ]
     },
     "metadata": {},
     "output_type": "display_data"
    }
   ],
   "source": [
    "mask = select.get_support()\n",
    "# マスクを可視化する\n",
    "plt.matshow(mask.reshape(1, -1), cmap='gray_r')\n",
    "plt.xlabel('Sample index')\n",
    "plt.show()"
   ]
  },
  {
   "cell_type": "code",
   "execution_count": 14,
   "metadata": {},
   "outputs": [
    {
     "name": "stdout",
     "output_type": "stream",
     "text": [
      "Test score: 0.951\n"
     ]
    }
   ],
   "source": [
    "X_test_l1 = select.transform(X_test)\n",
    "score = LogisticRegression().fit(X_train_l1, y_train).score(X_test_l1, y_test)\n",
    "# 特徴量を選択することで、性能が上がっていることがわかる\n",
    "print(f\"Test score: {round(score, 3)}\")"
   ]
  },
  {
   "cell_type": "code",
   "execution_count": 15,
   "metadata": {},
   "outputs": [],
   "source": [
    "# 反復特徴量選択\n",
    "# 異なる特徴量を用いた一連のモデルを作る。方法が2種類ある。\n",
    "# 1. まったく特徴量を使わないところから、ある基準が満たされるところまで1つづつ特徴量を追加する方法\n",
    "# 2. 全ての特徴量を使うところから、ある基準が満たされるところまで1つづつ特徴量を取り除く方法\n"
   ]
  },
  {
   "cell_type": "code",
   "execution_count": 19,
   "metadata": {},
   "outputs": [
    {
     "data": {
      "image/png": "[encoded data removed]",
      "text/plain": [
       "<Figure size 1152x144 with 1 Axes>"
      ]
     },
     "metadata": {},
     "output_type": "display_data"
    }
   ],
   "source": [
    "# 再帰的特徴量削減\n",
    "# 全ての特徴量からモデルを作成して、そのモデルで最も重要度が低い特徴量を削除する\n",
    "\n",
    "from sklearn.feature_selection import RFE\n",
    "select = RFE(RandomForestClassifier(n_estimators=100, random_state=42), n_features_to_select=40)\n",
    "select.fit(X_train, y_train)\n",
    "# 選択された特徴量を可視化する\n",
    "mask = select.get_support()\n",
    "plt.matshow(mask.reshape(1, -1), cmap='gray_r')\n",
    "plt.xlabel('Sample index')\n",
    "plt.show()\n",
    "# ランダムフォレスト分類器を用いて、再帰的特徴量削減で選択された特徴量\n",
    "# 特徴量の1つがなくなっている"
   ]
  },
  {
   "cell_type": "code",
   "execution_count": 21,
   "metadata": {},
   "outputs": [
    {
     "name": "stdout",
     "output_type": "stream",
     "text": [
      "Test score: 0.951\n",
      "Test score: 0.951\n"
     ]
    }
   ],
   "source": [
    "# RFEを用いて選択した特徴量を用いたロジスティック回帰モデル\n",
    "X_train_rfe = select.transform(X_train)\n",
    "X_test_rfe = select.transform(X_test)\n",
    "\n",
    "score = LogisticRegression().fit(X_train_rfe, y_train).score(X_test_rfe, y_test)\n",
    "print(f\"Test score: {round(score, 3)}\")\n",
    "\n",
    "# RFEの内部で用いられたモデルで計算することもできる\n",
    "print(f\"Test score: {round(select.score(X_test, y_test), 3)}\")\n",
    "# RFEで用いられたランダムフォレストの性能は、選択された特徴量で訓練したロジスティック回帰モデルと同じである\n",
    "# つまり、適切な特徴量を選んだことによって、線形モデルの性能がランダムフォレストと同じになったということ\n",
    "# 機械学習アルゴリズムに対してどの特徴量を入力として使ったらよいかわからない場合には、自動特徴量選択は有用である.\n",
    "# また、予測を高速化したい場合や、解釈しやすいモデルを構築したい場合などに,必要な特徴量を減らすのにも役に立つ\n",
    "# 実世界のデータでは、特徴量選択で性能が大幅に向上することはあまりない。"
   ]
  },
  {
   "cell_type": "code",
   "execution_count": null,
   "metadata": {},
   "outputs": [],
   "source": []
  }
 ],
 "metadata": {
  "kernelspec": {
   "display_name": "Python 3",
   "language": "python",
   "name": "python3"
  },
  "language_info": {
   "codemirror_mode": {
    "name": "ipython",
    "version": 3
   },
   "file_extension": ".py",
   "mimetype": "text/x-python",
   "name": "python",
   "nbconvert_exporter": "python",
   "pygments_lexer": "ipython3",
   "version": "3.6.5"
  }
 },
 "nbformat": 4,
 "nbformat_minor": 2
}
