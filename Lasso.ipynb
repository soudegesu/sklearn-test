{
 "cells": [
  {
   "cell_type": "code",
   "execution_count": 5,
   "metadata": {},
   "outputs": [
    {
     "name": "stdout",
     "output_type": "stream",
     "text": [
      "0.29323768991114596\n",
      "0.20937503255272272\n",
      "4\n"
     ]
    }
   ],
   "source": [
    "# Lassoは線形モデルの中でもL1正則化を用いており、いくつかの係数が完全に0になる\n",
    "\n",
    "from sklearn.linear_model import  Lasso\n",
    "import mglearn\n",
    "from sklearn.model_selection import train_test_split\n",
    "import numpy as np\n",
    "\n",
    "X, y = mglearn.datasets.load_extended_boston()\n",
    "\n",
    "X_train, X_test, y_train, y_test = train_test_split(X, y, random_state = 0)\n",
    "\n",
    "lasso = Lasso().fit(X_train, y_train)\n",
    "\n",
    "# スコアが悪いのは適合不足を表している\n",
    "# 全体で104の特徴量のうち、4つしか使用していないことになる\n",
    "print(lasso.score(X_train, y_train))\n",
    "print(lasso.score(X_test, y_test))\n",
    "print(np.sum(lasso.coef_ != 0))"
   ]
  },
  {
   "cell_type": "code",
   "execution_count": 6,
   "metadata": {},
   "outputs": [
    {
     "name": "stdout",
     "output_type": "stream",
     "text": [
      "0.8965069559751289\n",
      "0.7656489887843523\n",
      "33\n"
     ]
    }
   ],
   "source": [
    "# 適合度合いの不足をへらすにはalphaをへらす\n",
    "# その場合には、max_iter(繰り返しの回数) をデフォルト値から増やしてあげる必要がある\n",
    "from sklearn.linear_model import  Lasso\n",
    "import mglearn\n",
    "from sklearn.model_selection import train_test_split\n",
    "import numpy as np\n",
    "\n",
    "X, y = mglearn.datasets.load_extended_boston()\n",
    "\n",
    "X_train, X_test, y_train, y_test = train_test_split(X, y, random_state = 0)\n",
    "\n",
    "lasso001 = Lasso(alpha = 0.01, max_iter = 100000).fit(X_train, y_train)\n",
    "print(lasso001.score(X_train, y_train))\n",
    "print(lasso001.score(X_test, y_test))\n",
    "print(np.sum(lasso001.coef_ != 0 ))"
   ]
  },
  {
   "cell_type": "code",
   "execution_count": 7,
   "metadata": {},
   "outputs": [
    {
     "name": "stdout",
     "output_type": "stream",
     "text": [
      "0.9396620850927063\n",
      "0.7396519336121415\n",
      "69\n"
     ]
    }
   ],
   "source": [
    "# alphaを小さくしすぎると、リッジの場合と同様に正則化の効果が薄れる\n",
    "\n",
    "from sklearn.linear_model import  Lasso\n",
    "import mglearn\n",
    "from sklearn.model_selection import train_test_split\n",
    "import numpy as np\n",
    "\n",
    "X, y = mglearn.datasets.load_extended_boston()\n",
    "\n",
    "X_train, X_test, y_train, y_test = train_test_split(X, y, random_state = 0)\n",
    "\n",
    "lasso0001 = Lasso(alpha = 0.001, max_iter = 100000).fit(X_train, y_train)\n",
    "print(lasso0001.score(X_train, y_train))\n",
    "print(lasso0001.score(X_test, y_test))\n",
    "print(np.sum(lasso0001.coef_ != 0 ))"
   ]
  },
  {
   "cell_type": "code",
   "execution_count": 8,
   "metadata": {},
   "outputs": [
    {
     "data": {
      "text/plain": [
       "[<matplotlib.lines.Line2D at 0x10b5b7438>]"
      ]
     },
     "execution_count": 8,
     "metadata": {},
     "output_type": "execute_result"
    },
    {
     "data": {
      "image/png": "[encoded data removed]",
      "text/plain": [
       "<Figure size 432x288 with 1 Axes>"
      ]
     },
     "metadata": {},
     "output_type": "display_data"
    }
   ],
   "source": [
    "from matplotlib import pyplot as plt\n",
    "\n",
    "# 特徴量がたくさんあって、重要なものがわずかしかないことが予測されるのであれば、Lassoのほうが向いている\n",
    "plt.plot(lasso.coef_, 's', label = 'Lasso alpha=1')\n",
    "plt.plot(lasso001.coef_, '^', label = 'Lasso alpha=0.01')\n",
    "plt.plot(lasso0001.coef_, 'v', label = 'Lasso alpah=0.001')"
   ]
  },
  {
   "cell_type": "code",
   "execution_count": null,
   "metadata": {},
   "outputs": [],
   "source": []
  }
 ],
 "metadata": {
  "kernelspec": {
   "display_name": "Python 3",
   "language": "python",
   "name": "python3"
  },
  "language_info": {
   "codemirror_mode": {
    "name": "ipython",
    "version": 3
   },
   "file_extension": ".py",
   "mimetype": "text/x-python",
   "name": "python",
   "nbconvert_exporter": "python",
   "pygments_lexer": "ipython3",
   "version": "3.6.5"
  }
 },
 "nbformat": 4,
 "nbformat_minor": 2
}
